{
  "nbformat": 4,
  "nbformat_minor": 0,
  "metadata": {
    "colab": {
      "provenance": [],
      "authorship_tag": "ABX9TyOslJukg6Mxk/UPBgj/UetD",
      "include_colab_link": true
    },
    "kernelspec": {
      "name": "python3",
      "display_name": "Python 3"
    },
    "language_info": {
      "name": "python"
    }
  },
  "cells": [
    {
      "cell_type": "markdown",
      "metadata": {
        "id": "view-in-github",
        "colab_type": "text"
      },
      "source": [
        "<a href=\"https://colab.research.google.com/github/AnetaWichry/kurs-si/blob/main/wprowadzenie_do_srodowiska.ipynb\" target=\"_parent\"><img src=\"https://colab.research.google.com/assets/colab-badge.svg\" alt=\"Open In Colab\"/></a>"
      ]
    },
    {
      "cell_type": "markdown",
      "source": [
        "# Podstawowe elemety jezyka python\n",
        "# W tym rozdziale przedstawimy podstawowe elementy składni języka Python*\n",
        "\n",
        "[Dokumentacja Python](\n",
        "https://www.python.org/\n",
        ")\n",
        "\n",
        "# Omawiane elementy\n",
        "\n",
        "---\n",
        "\n",
        "1.   Zmienne\n",
        "\n",
        "---\n",
        "\n",
        "2.   Listy\n",
        "\n",
        "---\n",
        "\n",
        "3.   Pętle\n",
        "\n",
        "---\n",
        "\n",
        "4.   Słowniki i krotki\n",
        "\n",
        "---\n",
        "5.   Instrukcje warunkowe\n",
        "\n",
        "---\n",
        "6.   Funkcje\n",
        "\n",
        "---\n",
        "7.   Obsługa plików\n",
        "\n",
        "---\n",
        "8.   Obsługa wyjątków\n",
        "\n",
        "---\n",
        "\n"
      ],
      "metadata": {
        "id": "6t4Lo6OzL7g8"
      }
    },
    {
      "cell_type": "code",
      "execution_count": 2,
      "metadata": {
        "colab": {
          "base_uri": "https://localhost:8080/"
        },
        "id": "ymNIiQSyL3sq",
        "outputId": "f0feb8c2-1983-4db8-a389-aa81e28db37f"
      },
      "outputs": [
        {
          "output_type": "stream",
          "name": "stdout",
          "text": [
            "\u001b[33mhint: Using 'master' as the name for the initial branch. This default branch name\u001b[m\n",
            "\u001b[33mhint: is subject to change. To configure the initial branch name to use in all\u001b[m\n",
            "\u001b[33mhint: of your new repositories, which will suppress this warning, call:\u001b[m\n",
            "\u001b[33mhint: \u001b[m\n",
            "\u001b[33mhint: \tgit config --global init.defaultBranch <name>\u001b[m\n",
            "\u001b[33mhint: \u001b[m\n",
            "\u001b[33mhint: Names commonly chosen instead of 'master' are 'main', 'trunk' and\u001b[m\n",
            "\u001b[33mhint: 'development'. The just-created branch can be renamed via this command:\u001b[m\n",
            "\u001b[33mhint: \u001b[m\n",
            "\u001b[33mhint: \tgit branch -m <name>\u001b[m\n",
            "Initialized empty Git repository in /content/.git/\n"
          ]
        }
      ],
      "source": [
        "!git init\n",
        "!git config --global user.name \"anetawichry\"\n",
        "!git config --global user.email \"anitawietchy@gmail.com\""
      ]
    },
    {
      "cell_type": "code",
      "source": [
        "!git add ."
      ],
      "metadata": {
        "id": "0sES_mVCRBCV"
      },
      "execution_count": 3,
      "outputs": []
    },
    {
      "cell_type": "code",
      "source": [
        "!git commit -m \"inicjalizacja projektu\""
      ],
      "metadata": {
        "colab": {
          "base_uri": "https://localhost:8080/"
        },
        "id": "2ZpUepv_RSYW",
        "outputId": "d9ab9dca-4149-4818-8f4c-7f6566ee4215"
      },
      "execution_count": 4,
      "outputs": [
        {
          "output_type": "stream",
          "name": "stdout",
          "text": [
            "[master (root-commit) e9ccf7b] inicjalizacja projektu\n",
            " 21 files changed, 51025 insertions(+)\n",
            " create mode 100644 .config/.last_opt_in_prompt.yaml\n",
            " create mode 100644 .config/.last_survey_prompt.yaml\n",
            " create mode 100644 .config/.last_update_check.json\n",
            " create mode 100644 .config/active_config\n",
            " create mode 100644 .config/config_sentinel\n",
            " create mode 100644 .config/configurations/config_default\n",
            " create mode 100644 .config/default_configs.db\n",
            " create mode 100644 .config/gce\n",
            " create mode 100644 .config/hidden_gcloud_config_universe_descriptor_data_cache_configs.db\n",
            " create mode 100644 .config/logs/2025.03.07/14.25.10.912729.log\n",
            " create mode 100644 .config/logs/2025.03.07/14.25.31.510076.log\n",
            " create mode 100644 .config/logs/2025.03.07/14.25.39.941814.log\n",
            " create mode 100644 .config/logs/2025.03.07/14.25.41.136979.log\n",
            " create mode 100644 .config/logs/2025.03.07/14.25.49.465545.log\n",
            " create mode 100644 .config/logs/2025.03.07/14.25.50.132613.log\n",
            " create mode 100755 sample_data/README.md\n",
            " create mode 100755 sample_data/anscombe.json\n",
            " create mode 100644 sample_data/california_housing_test.csv\n",
            " create mode 100644 sample_data/california_housing_train.csv\n",
            " create mode 100644 sample_data/mnist_test.csv\n",
            " create mode 100644 sample_data/mnist_train_small.csv\n"
          ]
        }
      ]
    },
    {
      "cell_type": "code",
      "source": [
        "!git branch -M main"
      ],
      "metadata": {
        "id": "3GHLZEbURs5g"
      },
      "execution_count": 5,
      "outputs": []
    },
    {
      "cell_type": "code",
      "source": [
        "!git push -u origin main"
      ],
      "metadata": {
        "colab": {
          "base_uri": "https://localhost:8080/"
        },
        "id": "gsv6kR7HWX6F",
        "outputId": "cc59aa66-aa98-4752-a52e-66989b84bc04"
      },
      "execution_count": 12,
      "outputs": [
        {
          "output_type": "stream",
          "name": "stdout",
          "text": [
            "Enumerating objects: 28, done.\n",
            "Counting objects:   3% (1/28)\rCounting objects:   7% (2/28)\rCounting objects:  10% (3/28)\rCounting objects:  14% (4/28)\rCounting objects:  17% (5/28)\rCounting objects:  21% (6/28)\rCounting objects:  25% (7/28)\rCounting objects:  28% (8/28)\rCounting objects:  32% (9/28)\rCounting objects:  35% (10/28)\rCounting objects:  39% (11/28)\rCounting objects:  42% (12/28)\rCounting objects:  46% (13/28)\rCounting objects:  50% (14/28)\rCounting objects:  53% (15/28)\rCounting objects:  57% (16/28)\rCounting objects:  60% (17/28)\rCounting objects:  64% (18/28)\rCounting objects:  67% (19/28)\rCounting objects:  71% (20/28)\rCounting objects:  75% (21/28)\rCounting objects:  78% (22/28)\rCounting objects:  82% (23/28)\rCounting objects:  85% (24/28)\rCounting objects:  89% (25/28)\rCounting objects:  92% (26/28)\rCounting objects:  96% (27/28)\rCounting objects: 100% (28/28)\rCounting objects: 100% (28/28), done.\n",
            "Delta compression using up to 2 threads\n",
            "Compressing objects: 100% (21/21), done.\n",
            "Writing objects: 100% (28/28), 8.42 MiB | 2.38 MiB/s, done.\n",
            "Total 28 (delta 5), reused 0 (delta 0), pack-reused 0\n",
            "remote: Resolving deltas: 100% (5/5), done.\u001b[K\n",
            "remote: This repository moved. Please use the new location:\u001b[K\n",
            "remote:   https://github.com/AnetaWichry/kurs-si.git\u001b[K\n",
            "To https://github.com/anetawichry/kurs-si.git\n",
            " * [new branch]      main -> main\n",
            "Branch 'main' set up to track remote branch 'main' from 'origin'.\n"
          ]
        }
      ]
    }
  ]
}